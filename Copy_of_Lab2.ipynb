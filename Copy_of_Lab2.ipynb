{
  "nbformat": 4,
  "nbformat_minor": 0,
  "metadata": {
    "colab": {
      "provenance": [],
      "include_colab_link": true
    },
    "kernelspec": {
      "name": "python3",
      "display_name": "Python 3"
    },
    "language_info": {
      "name": "python"
    }
  },
  "cells": [
    {
      "cell_type": "markdown",
      "metadata": {
        "id": "view-in-github",
        "colab_type": "text"
      },
      "source": [
        "<a href=\"https://colab.research.google.com/github/MableMusiiimenta/BDD/blob/main/Copy_of_Lab2.ipynb\" target=\"_parent\"><img src=\"https://colab.research.google.com/assets/colab-badge.svg\" alt=\"Open In Colab\"/></a>"
      ]
    },
    {
      "cell_type": "markdown",
      "source": [
        "This lab consists of 5 questions that total up to 20 marks. You are to follow the instructions and prove that your solution works at the end of each question. You may include comments where necessary."
      ],
      "metadata": {
        "id": "CpyJhgvxezhm"
      }
    },
    {
      "cell_type": "markdown",
      "source": [
        "***Question 1:***\n",
        "Below is a snippet of code that prints out numbers from 0-9. Make the necessary corrections to the source code so that it may print each number 0-9 individually. (2 Marks)"
      ],
      "metadata": {
        "id": "G5tT6TTkh-hK"
      }
    },
    {
      "cell_type": "code",
      "source": [
        "# Show logic and print result here.\n",
        "for i in range(10):\n",
        "  print(i)"
      ],
      "metadata": {
        "id": "kg_HHWzpkcfZ",
        "colab": {
          "base_uri": "https://localhost:8080/"
        },
        "outputId": "f8e1e6c0-27c3-468a-f7ee-be73df15f4e4"
      },
      "execution_count": null,
      "outputs": [
        {
          "output_type": "stream",
          "name": "stdout",
          "text": [
            "0\n",
            "1\n",
            "2\n",
            "3\n",
            "4\n",
            "5\n",
            "6\n",
            "7\n",
            "8\n",
            "9\n"
          ]
        }
      ]
    },
    {
      "cell_type": "markdown",
      "source": [
        "***Question 2:***\n",
        "The funciton below reads names from a Python list and then prints them out in a statement. Complete the function. (3 Marks)"
      ],
      "metadata": {
        "id": "f0L2R2pBubbT"
      }
    },
    {
      "cell_type": "code",
      "source": [
        "# Show logic here\n",
        "def show_names():\n",
        "  names = ['Declan', 'Trevor', 'James', 'William', 'Peter', 'Malcom', 'Henry']\n",
        "  for i in range(len(names)):\n",
        "    name = names[i]\n",
        "    print(f'The name to be displayed is: {name}')"
      ],
      "metadata": {
        "id": "GtlrKA1jukgl"
      },
      "execution_count": null,
      "outputs": []
    },
    {
      "cell_type": "code",
      "source": [
        "# Print result here here.\n",
        "show_names()"
      ],
      "metadata": {
        "id": "bo_g7p-MC4Kq",
        "outputId": "dafb678c-13d4-4f38-cea8-9ac143ba146b",
        "colab": {
          "base_uri": "https://localhost:8080/"
        }
      },
      "execution_count": null,
      "outputs": [
        {
          "output_type": "stream",
          "name": "stdout",
          "text": [
            "The name to be displayed is: Declan\n",
            "The name to be displayed is: Trevor\n",
            "The name to be displayed is: James\n",
            "The name to be displayed is: William\n",
            "The name to be displayed is: Peter\n",
            "The name to be displayed is: Malcom\n",
            "The name to be displayed is: Henry\n"
          ]
        }
      ]
    },
    {
      "cell_type": "markdown",
      "source": [
        "***Question 3:***\n",
        "I have defined three Python lists with words in each of them. Create a funciton that uses one word from each list to create a logically sound and grammatically correct sentence. Each word from either list may only be used once - once a word is used in a sentence it cannot be used in another sentence. Print out your result. (5 Marks)"
      ],
      "metadata": {
        "id": "lLNjXZ-CgoQ4"
      }
    },
    {
      "cell_type": "code",
      "source": [
        "# Show logic here.\n",
        "def create_sentence():\n",
        "  colours = ['red', 'blue', 'green']\n",
        "  vehicles = ['car', 'bicycle', 'tractor']\n",
        "  adjectives = ['fast', 'slow', 'cool']\n",
        "  sentences = []\n",
        "  for i in range(len(colours)):\n",
        "        sentence = f\"The {adjectives[i]} {colours[i]} {vehicles[i]}.\"\n",
        "        sentences.append(sentence)\n",
        "  for sentence in sentences:\n",
        "        print(sentence)"
      ],
      "metadata": {
        "id": "WLuBvCdOgq4y"
      },
      "execution_count": null,
      "outputs": []
    },
    {
      "cell_type": "code",
      "source": [
        "# Print result here.\n",
        "\n",
        "create_sentence()"
      ],
      "metadata": {
        "id": "F3abAtk5gr79",
        "outputId": "82aff851-6144-4079-c53e-26abd5b3eb2d",
        "colab": {
          "base_uri": "https://localhost:8080/"
        }
      },
      "execution_count": null,
      "outputs": [
        {
          "output_type": "stream",
          "name": "stdout",
          "text": [
            "The fast red car.\n",
            "The slow blue bicycle.\n",
            "The cool green tractor.\n"
          ]
        }
      ]
    },
    {
      "cell_type": "markdown",
      "source": [
        "***Question 4:*** Create a function that accepts a list of salaries and calculates the taxes and net pay associated with that salary. The tax rates are defined as follows: a person earning 600,000 or more pays 43% tax, a person earning 400,000 or more but less than 600,000 pays 33% tax, a person earning 200,000 or more but less than 400,000 pays 23% tax and someone earning less than 200,000 pays 13% tax. Net Pay is equal to gross pay minus tax. The function should print a statement that describes how much tax and what the net pay is for each salary in the list. (5 marks)"
      ],
      "metadata": {
        "id": "m4FMDOSQgsXs"
      }
    },
    {
      "cell_type": "code",
      "source": [
        "# Show logic here.\n",
        "def calculate_taxes_and_net_pay(salaries):\n",
        "    for salary in salaries:\n",
        "        if salary >= 600000:\n",
        "            tax_rate = 0.43\n",
        "        elif salary >= 400000:\n",
        "            tax_rate = 0.33\n",
        "        elif salary >= 200000:\n",
        "            tax_rate = 0.23\n",
        "        else:\n",
        "            tax_rate = 0.13\n",
        "\n",
        "        tax = salary * tax_rate\n",
        "        net_pay = salary - tax\n",
        "        print(f\"Gross Salary: ${salary:,.2f}, Tax: ${tax:,.2f}, Net Pay: ${net_pay:,.2f}\")\n"
      ],
      "metadata": {
        "id": "lVhCvhllgyvL"
      },
      "execution_count": null,
      "outputs": []
    },
    {
      "cell_type": "code",
      "source": [
        "# Print result here.\n",
        "salaries = [150000, 250000, 500000, 700000]\n",
        "calculate_taxes_and_net_pay(salaries)"
      ],
      "metadata": {
        "id": "gHstqMJkgzDU",
        "outputId": "e3e0b7ff-ac41-464a-b055-9d9aec49a64a",
        "colab": {
          "base_uri": "https://localhost:8080/"
        }
      },
      "execution_count": null,
      "outputs": [
        {
          "output_type": "stream",
          "name": "stdout",
          "text": [
            "Gross Salary: $150,000.00, Tax: $19,500.00, Net Pay: $130,500.00\n",
            "Gross Salary: $250,000.00, Tax: $57,500.00, Net Pay: $192,500.00\n",
            "Gross Salary: $500,000.00, Tax: $165,000.00, Net Pay: $335,000.00\n",
            "Gross Salary: $700,000.00, Tax: $301,000.00, Net Pay: $399,000.00\n"
          ]
        }
      ]
    },
    {
      "cell_type": "markdown",
      "source": [
        "***Question 5:*** Write a function that determines the Grade of a student. The grade are distinguished as follows: A student is graded A for scoring 90 or more marks, graded B for scoring 80 or more but less than 90, graded C for scoring 70 or more but less than 80, graded D for scoring 60 or more but less than 70 and is graded F for scoring less than 60. The function should take the score as a parameter. In the code box where you shall print your answer, the score must be user input and not hard-coded into the source-code. Print out your result. (5 Marks)"
      ],
      "metadata": {
        "id": "hbeb_cBig5J3"
      }
    },
    {
      "cell_type": "code",
      "source": [
        "#Show logic here\n",
        "def determine_grade(score):\n",
        "    if score >= 90:\n",
        "        grade = 'A'\n",
        "    elif score >= 80:\n",
        "        grade = 'B'\n",
        "    elif score >= 70:\n",
        "        grade = 'C'\n",
        "    elif score >= 60:\n",
        "        grade = 'D'\n",
        "    else:\n",
        "        grade = 'F'\n",
        "\n",
        "    return grade"
      ],
      "metadata": {
        "id": "LfOak35Eg7Ju"
      },
      "execution_count": 2,
      "outputs": []
    },
    {
      "cell_type": "code",
      "source": [
        "# Print result here.\n",
        "try:\n",
        "    score = float(input(\"Enter the student's score: \"))\n",
        "    if 0 <= score <= 100:\n",
        "        grade = determine_grade(score)\n",
        "        print(f\"The grade for the score {score} is: {grade}\")\n",
        "    else:\n",
        "        print(\"Please enter a score between 0 and 100.\")\n",
        "except ValueError:\n",
        "    print(\"Invalid input. Please enter a numerical value.\")"
      ],
      "metadata": {
        "id": "XivKicCYg7YQ",
        "outputId": "b0370870-0492-4716-dd57-91ecd69eec68",
        "colab": {
          "base_uri": "https://localhost:8080/"
        }
      },
      "execution_count": 3,
      "outputs": [
        {
          "output_type": "stream",
          "name": "stdout",
          "text": [
            "Enter the student's score: 100\n",
            "The grade for the score 100.0 is: A\n"
          ]
        }
      ]
    }
  ]
}